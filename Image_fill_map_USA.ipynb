{
 "cells": [
  {
   "cell_type": "code",
   "execution_count": null,
   "metadata": {},
   "outputs": [],
   "source": [
    "import geopandas as gpd\n",
    "import matplotlib.pyplot as plt\n",
    "import matplotlib.patches as mpatches\n",
    "import numpy as np\n",
    "import cartopy.crs as ccrs\n",
    "import shapely.geometry\n",
    "from shapely.geometry import MultiPolygon\n",
    "from skimage import io"
   ]
  },
  {
   "cell_type": "code",
   "execution_count": null,
   "metadata": {},
   "outputs": [],
   "source": [
    "# add datasets\n",
    "df = gpd.read_file(\"USA_shapefile/cb_2018_us_state_500k.shp\")\n",
    "df = df.to_crs(\"ESRI:102009\") # changing projection for better appearnce\n",
    "df2 = gpd.read_file(\"Image_data/states.csv\")"
   ]
  },
  {
   "cell_type": "code",
   "execution_count": null,
   "metadata": {},
   "outputs": [],
   "source": [
    "#rename column to merge \n",
    "df2 = df2.rename(columns ={'code':'STUSPS'})\n",
    "#merging the dataset\n",
    "df3 = df2.merge(df, on='STUSPS', how = 'outer')\n",
    "#filtering USA mainland\n",
    "df3 = df3[df3[\"STUSPS\"].isin([\"RI\",\"HI\",\"AK\",\"VI\",\"MP\",\"GU\",\"AS\",\"PR\",\"DC\"]) == False]"
   ]
  },
  {
   "cell_type": "code",
   "execution_count": null,
   "metadata": {},
   "outputs": [],
   "source": [
    "#### get the polygon fill maps ####\n",
    "\n",
    "#setting the plot\n",
    "plt.figure(figsize=(20, 15),dpi = 100)\n",
    "ax = plt.axes(projection=ccrs.LambertConformal())\n",
    "ax.set_extent((-120, -72, 20, 50))\n",
    "    \n",
    "#iterating through each row\n",
    "for index, row in df3.iterrows():     \n",
    "    \n",
    "    #reading the image from url \n",
    "    image = io.imread(row[\"skyline_background_url\"])\n",
    "    \n",
    "    state = row['state']\n",
    "    state_geometry = row['geometry_y']\n",
    "    \n",
    "    #extracting bounding box for each state\n",
    "    state_bb = list(state_geometry.bounds)\n",
    "    state_bb[1],state_bb[2] = state_bb[2],state_bb[1]\n",
    "    \n",
    "    # transforming geoaxes to matplotlib axes\n",
    "    plate_carree_transform = ccrs.LambertConformal()._as_mpl_transform(ax)  \n",
    "   \n",
    "    \n",
    "    if state_geometry.geometryType()=='MultiPolygon': ## for ploygons, looping is not required\n",
    "        for xy in state_geometry.geoms:\n",
    "            \n",
    "            #getting the path for creating patches\n",
    "            coord_xy = xy.exterior.xy  \n",
    "            xy_list = []\n",
    "            for xy in zip(coord_xy[0], coord_xy[1]):\n",
    "                xy_list.append([xy[0],xy[1]])\n",
    "            \n",
    "            #plotting images over boudnding boxes\n",
    "            image2 = ax.imshow(image,extent=state_bb, zorder=5)\n",
    "            #clipping the images using the patches\n",
    "            image2.set_clip_path(mpatches.Path(xy_list),transform= plate_carree_transform) \n",
    "       \n",
    "    else:\n",
    "        #getting the path for creating patches\n",
    "        coord_xy = state_geometry.exterior.xy   \n",
    "        xy_list = []\n",
    "        for xy in zip(coord_xy[0], coord_xy[1]):\n",
    "            xy_list.append([xy[0],xy[1]])\n",
    "   \n",
    "        #plotting images over boudnding boxes\n",
    "        image2 = ax.imshow(image, extent=state_bb,zorder=5) \n",
    "        #clipping the images using the patches\n",
    "        image2.set_clip_path(mpatches.Path(xy_list),transform=plate_carree_transform) \n",
    "\n",
    "    pass\n",
    "\n",
    "plt.savefig('usa_polygon_fill_map.png')"
   ]
  },
  {
   "cell_type": "code",
   "execution_count": null,
   "metadata": {},
   "outputs": [],
   "source": []
  }
 ],
 "metadata": {
  "kernelspec": {
   "display_name": "Python 3",
   "language": "python",
   "name": "python3"
  },
  "language_info": {
   "codemirror_mode": {
    "name": "ipython",
    "version": 3
   },
   "file_extension": ".py",
   "mimetype": "text/x-python",
   "name": "python",
   "nbconvert_exporter": "python",
   "pygments_lexer": "ipython3",
   "version": "3.8.5"
  }
 },
 "nbformat": 4,
 "nbformat_minor": 4
}
